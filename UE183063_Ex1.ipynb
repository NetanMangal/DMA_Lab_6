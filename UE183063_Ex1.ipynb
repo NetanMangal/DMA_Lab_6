{
  "nbformat": 4,
  "nbformat_minor": 0,
  "metadata": {
    "colab": {
      "name": "UE183063.ipynb",
      "provenance": [],
      "collapsed_sections": []
    },
    "kernelspec": {
      "name": "python3",
      "display_name": "Python 3"
    },
    "language_info": {
      "name": "python"
    }
  },
  "cells": [
    {
      "cell_type": "markdown",
      "metadata": {
        "id": "8KZxIsxGPQqd"
      },
      "source": [
        "1. 1)10 + 15\n",
        "2. 2)print(\"Hello World\")\n",
        "3. 3)45 - 34\n",
        "4. 4)8 * 2\n",
        "5. 5)print(\"Rahul's age is\", 45)\n",
        "6. 6)print(\"I have\", 10, \"mangoes and\", 12, \"bananas\")"
      ]
    },
    {
      "cell_type": "code",
      "metadata": {
        "colab": {
          "base_uri": "https://localhost:8080/"
        },
        "id": "ob523zSF8my5",
        "outputId": "cea51c80-3d5d-4abf-b306-f35a9b768378"
      },
      "source": [
        "10+15"
      ],
      "execution_count": null,
      "outputs": [
        {
          "output_type": "execute_result",
          "data": {
            "text/plain": [
              "25"
            ]
          },
          "metadata": {
            "tags": []
          },
          "execution_count": 2
        }
      ]
    },
    {
      "cell_type": "code",
      "metadata": {
        "colab": {
          "base_uri": "https://localhost:8080/"
        },
        "id": "arXs14zz_5xW",
        "outputId": "dc581327-0b39-4397-f47a-71f2b2b59012"
      },
      "source": [
        "print(\"Hello World\")"
      ],
      "execution_count": null,
      "outputs": [
        {
          "output_type": "stream",
          "text": [
            "Hello World\n"
          ],
          "name": "stdout"
        }
      ]
    },
    {
      "cell_type": "code",
      "metadata": {
        "colab": {
          "base_uri": "https://localhost:8080/"
        },
        "id": "FJxvLzrg_7Ej",
        "outputId": "af749b87-2165-4bfd-8e5c-6f28e80f00e6"
      },
      "source": [
        "45 - 34"
      ],
      "execution_count": null,
      "outputs": [
        {
          "output_type": "execute_result",
          "data": {
            "text/plain": [
              "11"
            ]
          },
          "metadata": {
            "tags": []
          },
          "execution_count": 5
        }
      ]
    },
    {
      "cell_type": "code",
      "metadata": {
        "colab": {
          "base_uri": "https://localhost:8080/"
        },
        "id": "JS2VU-jQ_9jD",
        "outputId": "dcbc8a4a-f733-4c2f-c584-19b51f3e3fe5"
      },
      "source": [
        "8*2"
      ],
      "execution_count": null,
      "outputs": [
        {
          "output_type": "execute_result",
          "data": {
            "text/plain": [
              "16"
            ]
          },
          "metadata": {
            "tags": []
          },
          "execution_count": 6
        }
      ]
    },
    {
      "cell_type": "code",
      "metadata": {
        "colab": {
          "base_uri": "https://localhost:8080/"
        },
        "id": "-dk_KEMa__mz",
        "outputId": "c70028a8-80ff-416b-8b82-328c7e8def52"
      },
      "source": [
        "print(\"Rahul's age is\", 45)"
      ],
      "execution_count": null,
      "outputs": [
        {
          "output_type": "stream",
          "text": [
            "Rahul's age is 45\n"
          ],
          "name": "stdout"
        }
      ]
    },
    {
      "cell_type": "code",
      "metadata": {
        "colab": {
          "base_uri": "https://localhost:8080/"
        },
        "id": "_aoIeHZiACez",
        "outputId": "e61a5021-e6a8-42f9-857c-38c48f15a868"
      },
      "source": [
        "print(\"I have\", 10, \"mangoes and\", 12, \"bananas\")"
      ],
      "execution_count": null,
      "outputs": [
        {
          "output_type": "stream",
          "text": [
            "I have 10 mangoes and 12 bananas\n"
          ],
          "name": "stdout"
        }
      ]
    },
    {
      "cell_type": "markdown",
      "metadata": {
        "id": "9yPQgYYlPMs9"
      },
      "source": [
        "7. Execute the following\n",
        "\n",
        "> emp_number = 1233\n",
        "\n",
        "> print(\"Employee Number:\", emp_number)\n",
        "\n",
        "> emp_salary = 16745.50\n",
        "\n",
        "> emp_name = \"Jerry Squaris\"\n",
        "\n",
        "> print(\"Employee Salary and Name:\", emp_salary, emp_name)\n",
        "\n",
        "> emp_salary = 23450.34\n",
        "\n",
        "> print(\"Updated Employee Salary:\", emp_salary)\n"
      ]
    },
    {
      "cell_type": "code",
      "metadata": {
        "colab": {
          "base_uri": "https://localhost:8080/"
        },
        "id": "Vd5PpqmSAIID",
        "outputId": "9cce0b83-e181-42ee-e4fd-0a11d347d42b"
      },
      "source": [
        "emp_number = 1233\n",
        "print(\"Employee Number:\", emp_number)\n",
        "emp_salary = 16745.50\n",
        "emp_name = \"Jerry Squaris\"\n",
        "print(\"Employee Salary and Name:\", emp_salary, emp_name)\n",
        "emp_salary = 23450.34\n",
        "print(\"Updated Employee Salary:\", emp_salary)"
      ],
      "execution_count": null,
      "outputs": [
        {
          "output_type": "stream",
          "text": [
            "Employee Number: 1233\n",
            "Employee Salary and Name: 16745.5 Jerry Squaris\n",
            "Updated Employee Salary: 23450.34\n"
          ],
          "name": "stdout"
        }
      ]
    },
    {
      "cell_type": "markdown",
      "metadata": {
        "id": "Lm1jXuoXPBx7"
      },
      "source": [
        "8. Observe the output of following\n",
        "\n",
        "> customer_id = 101\n",
        "\n",
        "> type(customer_id)\n",
        "\n",
        "> customer_name = \"John\"\n",
        "\n",
        "> type(customer_name)\n",
        "\n",
        "> bill_amount = 675.45\n",
        "\n",
        "> type(bill_amount )\n",
        "\n",
        "> x = 5.3 + 0.9j\n",
        "\n",
        "> type(x)\n",
        "\n",
        "> print(customer_id, customer_name, bill_amount)\n",
        "\n",
        "> print(x.real)\n",
        "\n",
        "> print(x.imag + 3)\n",
        "\n",
        "> Flag = True\n",
        "\n",
        "> type(Flag)\n",
        "\n",
        "> y = \"False\"\n"
      ]
    },
    {
      "cell_type": "code",
      "metadata": {
        "colab": {
          "base_uri": "https://localhost:8080/"
        },
        "id": "u_ho2STpAW3F",
        "outputId": "7f7a5c5b-7d94-4edf-a5ef-7abe3e337841"
      },
      "source": [
        "customer_id = 101\n",
        "type(customer_id)\n",
        "customer_name = \"John\"\n",
        "type(customer_name)\n",
        "bill_amount = 675.45\n",
        "type(bill_amount )\n",
        "x = 5.3 + 0.9j\n",
        "type(x)\n",
        "print(customer_id, customer_name, bill_amount)\n",
        "print(x.real)\n",
        "print(x.imag + 3)\n",
        "Flag = True\n",
        "type(Flag)\n",
        "y = \"False\""
      ],
      "execution_count": null,
      "outputs": [
        {
          "output_type": "stream",
          "text": [
            "101 John 675.45\n",
            "5.3\n",
            "3.9\n"
          ],
          "name": "stdout"
        }
      ]
    },
    {
      "cell_type": "markdown",
      "metadata": {
        "id": "vITPgvOCOt7s"
      },
      "source": [
        "9. In a retail application, shopkeeper wants to keep a track of following details of a customer.\n",
        "Sample values are provided.\n",
        "      \n",
        "      > bill_id = 101\n",
        "      \n",
        "      > customer_id = 1001\n",
        "      \n",
        "      > customer_name = \"Rahul\"\n",
        "      \n",
        "      > if_minor = False\n",
        "      \n",
        "      > bill_amount = 2000.50\n",
        "\n",
        "Write a python program to store the details and display them."
      ]
    },
    {
      "cell_type": "code",
      "metadata": {
        "colab": {
          "base_uri": "https://localhost:8080/"
        },
        "id": "O9l7Lpw3Ax-k",
        "outputId": "2d937943-22c7-4e2c-b67e-801b0f46b81d"
      },
      "source": [
        "bill_id = 101\n",
        "customer_id = 1001\n",
        "customer_name = \"Rahul\"\n",
        "if_minor = False\n",
        "bill_amount = 2000.50\n",
        "print(\"Customer Details:\")\n",
        "print(\"bill_id = \", bill_id)\n",
        "print(\"customer_id = \", customer_id)\n",
        "print(\"customer_name = \", customer_name)\n",
        "print(\"if_minor = \", if_minor)\n",
        "print(\"bill_amount = \", bill_amount)"
      ],
      "execution_count": null,
      "outputs": [
        {
          "output_type": "stream",
          "text": [
            "Customer Details:\n",
            "bill_id =  101\n",
            "customer_id =  1001\n",
            "customer_name =  Rahul\n",
            "if_minor =  False\n",
            "bill_amount =  2000.5\n"
          ],
          "name": "stdout"
        }
      ]
    },
    {
      "cell_type": "markdown",
      "metadata": {
        "id": "C48Mq1OJOkwL"
      },
      "source": [
        "10. Write a Python program for the following requirements:\n",
        "      \n",
        "       Prompt the user to input two numbers num1 and num2\n",
        "      \n",
        "       Increment num1 by 4 and num2 by 6\n",
        "      \n",
        "       Find and print the sum of new values of num1 and num2"
      ]
    },
    {
      "cell_type": "code",
      "metadata": {
        "colab": {
          "base_uri": "https://localhost:8080/"
        },
        "id": "8_uXjOiMBcKN",
        "outputId": "ae1b6762-5a83-47ff-f28d-ee9a134eda5a"
      },
      "source": [
        "num1 = int(input(\"Input number 1: \"))\n",
        "num2 = int(input(\"Input number 2: \"))\n",
        "num1 += 4\n",
        "num2 += 6\n",
        "print(\"New value of num1 =\", num1)\n",
        "print(\"New value of num2 =\", num2)\n",
        "print(\"num1 + num2 =\", num1 + num2)"
      ],
      "execution_count": null,
      "outputs": [
        {
          "output_type": "stream",
          "text": [
            "Input number 1: 5\n",
            "Input number 2: 8\n",
            "New value of num1 = 9\n",
            "New value of num2 = 14\n",
            "num1 + num2 = 23\n"
          ],
          "name": "stdout"
        }
      ]
    },
    {
      "cell_type": "markdown",
      "metadata": {
        "id": "ofr93VrvObF0"
      },
      "source": [
        "11. Consider two variables 'a' and 'b' in Python such that a = 4 and b = 5. Swap the values of 'a'\n",
        "and 'b' without using a temporary variable. Print the values of 'a' and 'b' before and after\n",
        "swapping."
      ]
    },
    {
      "cell_type": "code",
      "metadata": {
        "colab": {
          "base_uri": "https://localhost:8080/"
        },
        "id": "EX0VcASHERpn",
        "outputId": "3b7152ff-0246-4031-c6d3-47477cbbbc88"
      },
      "source": [
        "a = 4\n",
        "b = 5\n",
        "print(\"Old value of a =\", a)\n",
        "print(\"Old value of b =\", b)\n",
        "a, b = b, a\n",
        "print(\"New value of a =\", a)\n",
        "print(\"New value of b =\", b)"
      ],
      "execution_count": null,
      "outputs": [
        {
          "output_type": "stream",
          "text": [
            "Old value of a = 4\n",
            "Old value of b = 5\n",
            "New value of a = 5\n",
            "New value of b = 4\n"
          ],
          "name": "stdout"
        }
      ]
    },
    {
      "cell_type": "markdown",
      "metadata": {
        "id": "17uU6Kf7ORJ7"
      },
      "source": [
        "12. Consider the scenario of processing marks of a student in ABC Training Institute. John, the\n",
        "student of fifth grade takes exams in three different subjects. Create three variables to store\n",
        "the marks obtained by John in three subjects. Find and display the average marks scored by\n",
        "John.Now change the marks in one of the subjects and observe the output. Did the value of\n",
        "average change. Write a Python program to implement this."
      ]
    },
    {
      "cell_type": "code",
      "metadata": {
        "colab": {
          "base_uri": "https://localhost:8080/"
        },
        "id": "xaBbEsc5GGHN",
        "outputId": "91ef557c-8292-41c8-fffd-f4868bf3b55b"
      },
      "source": [
        "mark1 = int(input(\"Marks in subject 1: \"))\n",
        "mark2 = int(input(\"Marks in subject 2: \"))\n",
        "mark3 = int(input(\"Marks in subject 3: \"))\n",
        "print(\"Old Average of 3 subjects =\", (mark1 + mark2 + mark3) / 3)\n",
        "mark2 = 20\n",
        "print(\"New Average of 3 subjects =\", (mark1 + mark2 + mark3) / 3)"
      ],
      "execution_count": null,
      "outputs": [
        {
          "output_type": "stream",
          "text": [
            "Marks in subject 1: 18\n",
            "Marks in subject 2: 9\n",
            "Marks in subject 3: 26\n",
            "Old Average of 3 subjects = 17.666666666666668\n",
            "New Average of 3 subjects = 21.333333333333332\n"
          ],
          "name": "stdout"
        }
      ]
    },
    {
      "cell_type": "markdown",
      "metadata": {
        "id": "bRcZAB20OJwq"
      },
      "source": [
        "13. Given the value of radius of a circle, write a Python program to calculate the area and\n",
        "perimeter of the circle. Display both the values."
      ]
    },
    {
      "cell_type": "code",
      "metadata": {
        "colab": {
          "base_uri": "https://localhost:8080/"
        },
        "id": "vamICJ5HG4AU",
        "outputId": "2b533cce-1191-49cb-b0cb-0f327be1853c"
      },
      "source": [
        "pi = 22 / 7\n",
        "radius = int(input(\"Radius of circle: \"))\n",
        "print(\"Perimeter of circle:\", 2 * pi * radius)\n",
        "print(\"Area of circle:\", pi * radius * radius)"
      ],
      "execution_count": null,
      "outputs": [
        {
          "output_type": "stream",
          "text": [
            "Radius of circle: 7\n",
            "Perimeter of circle: 44.0\n",
            "Area of circle: 154.0\n"
          ],
          "name": "stdout"
        }
      ]
    },
    {
      "cell_type": "markdown",
      "metadata": {
        "id": "--BWTEe8Nu1H"
      },
      "source": [
        "14. The finance department of a company wants to compute the monthly pay of its employees.\n",
        "Monthly pay should be calculated as mentioned in the formula below. Display all the\n",
        "employee details. Monthly Pay = Number of hours worked in a week * Pay rate per hour *\n",
        "No. of weeks in a month\n",
        "    \n",
        "      a. The number of hours worked by the employee in a week should be considered as 40\n",
        "    \n",
        "      b. Pay rate per hour should be considered as Rs.400\n",
        "    \n",
        "      c. Number of weeks in a month should be considered as 4\n",
        "Write a Python program to implement the above real world problem."
      ]
    },
    {
      "cell_type": "markdown",
      "metadata": {
        "id": "oenlAMwfNuyo"
      },
      "source": [
        ""
      ]
    },
    {
      "cell_type": "code",
      "metadata": {
        "colab": {
          "base_uri": "https://localhost:8080/"
        },
        "id": "uxbWLWg1HUwN",
        "outputId": "786dffb4-8420-4cee-f41d-4aa0bd95cdc9"
      },
      "source": [
        "def calculate_monthly_pay(hrs_per_week, pay_rate_per_hr, weeks_in_month):\n",
        "  return hrs_per_week * pay_rate_per_hr * weeks_in_month\n",
        "\n",
        "hrs_per_week = 40\n",
        "pay_rate_per_hr = 400\n",
        "weeks_in_month = 4\n",
        "\n",
        "monthly_pay = calculate_monthly_pay(hrs_per_week, pay_rate_per_hr, weeks_in_month)\n",
        "\n",
        "print(\"Monthly pay =\", monthly_pay)"
      ],
      "execution_count": null,
      "outputs": [
        {
          "output_type": "stream",
          "text": [
            "Monthly pay = 64000\n"
          ],
          "name": "stdout"
        }
      ]
    },
    {
      "cell_type": "markdown",
      "metadata": {
        "id": "_mvaRqYXNPuQ"
      },
      "source": [
        "15. Implement the following in Python:\n",
        "\n",
        "      a. Display all even numbers between 50 and 80 (both inclusive) using \"for\" loop.\n",
        "\n",
        "      b. Add natural numbers up to n where n is taken as an input from user. Print the sum.\n",
        "\n",
        "      c. Prompt the user to enter a number. Print whether the number is prime or not.\n",
        "\n",
        "      d. Print Fibonacci series till nth term where n is taken as an input from user"
      ]
    },
    {
      "cell_type": "code",
      "metadata": {
        "colab": {
          "base_uri": "https://localhost:8080/"
        },
        "id": "9Kh-Vt5UIx6N",
        "outputId": "459b0d3d-cb75-4d7a-c3eb-523151069df8"
      },
      "source": [
        "for i in range(50, 80 + 1):\n",
        "  if (i % 2 != 0):\n",
        "    continue\n",
        "  \n",
        "  print(i)\n"
      ],
      "execution_count": null,
      "outputs": [
        {
          "output_type": "stream",
          "text": [
            "50\n",
            "52\n",
            "54\n",
            "56\n",
            "58\n",
            "60\n",
            "62\n",
            "64\n",
            "66\n",
            "68\n",
            "70\n",
            "72\n",
            "74\n",
            "76\n",
            "78\n",
            "80\n"
          ],
          "name": "stdout"
        }
      ]
    },
    {
      "cell_type": "code",
      "metadata": {
        "colab": {
          "base_uri": "https://localhost:8080/"
        },
        "id": "Qd_3cqM6JhRj",
        "outputId": "e3c420cc-0e0e-4c6f-8192-575c5f5325f2"
      },
      "source": [
        "n = int(input(\"Input n; n is the number upto which sum of natural numbers will be calculated: \"))\n",
        "\n",
        "def cal_sum(n):\n",
        "  if (n == 1):\n",
        "    return n\n",
        "  \n",
        "  return n + cal_sum(n-1)\n",
        "\n",
        "print(\"Sum: \", cal_sum(n))"
      ],
      "execution_count": null,
      "outputs": [
        {
          "output_type": "stream",
          "text": [
            "Input n; n is the number upto which sum of natural numbers will be calculated: 100\n",
            "Sum:  5050\n"
          ],
          "name": "stdout"
        }
      ]
    },
    {
      "cell_type": "code",
      "metadata": {
        "colab": {
          "base_uri": "https://localhost:8080/"
        },
        "id": "ZQL903mTKSr6",
        "outputId": "ffcad306-13fc-4020-ebc5-42a182d6320b"
      },
      "source": [
        "n = int(input(\"Input n: \"))\n",
        "\n",
        "def is_prime(n):\n",
        "  i = 2  \n",
        "  while (i < n / 2):\n",
        "    if (n % i == 0):\n",
        "      return False\n",
        "    i += 1\n",
        "\n",
        "  return True\n",
        "\n",
        "print(\"Is {} prime: {}\".format(n, is_prime(n)))"
      ],
      "execution_count": null,
      "outputs": [
        {
          "output_type": "stream",
          "text": [
            "Input n: 111\n",
            "Is 111 prime: False\n"
          ],
          "name": "stdout"
        }
      ]
    },
    {
      "cell_type": "code",
      "metadata": {
        "colab": {
          "base_uri": "https://localhost:8080/"
        },
        "id": "mgpa6R7XLag_",
        "outputId": "0eb2cac6-6d17-4600-b1fe-870f44a972b3"
      },
      "source": [
        "n = int(input(\"Terms in fibonacci series: \"))\n",
        "\n",
        "i = 0\n",
        "\n",
        "a = 1\n",
        "b = 1\n",
        "\n",
        "while i < n:\n",
        "  i += 2\n",
        "  print(a)\n",
        "  i < n and print(b)\n",
        "  a = a + b\n",
        "  b = a + b\n"
      ],
      "execution_count": null,
      "outputs": [
        {
          "output_type": "stream",
          "text": [
            "Terms in fibonacci series: 15\n",
            "1\n",
            "1\n",
            "2\n",
            "3\n",
            "5\n",
            "8\n",
            "13\n",
            "21\n",
            "34\n",
            "55\n",
            "89\n",
            "144\n",
            "233\n",
            "377\n",
            "610\n"
          ],
          "name": "stdout"
        }
      ]
    },
    {
      "cell_type": "code",
      "metadata": {
        "id": "KyoD2S78Mp0F"
      },
      "source": [
        ""
      ],
      "execution_count": null,
      "outputs": []
    }
  ]
}