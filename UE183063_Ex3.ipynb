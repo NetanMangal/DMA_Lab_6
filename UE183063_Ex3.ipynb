{
  "nbformat": 4,
  "nbformat_minor": 0,
  "metadata": {
    "colab": {
      "name": "UE183063_Ex3.ipynb",
      "provenance": []
    },
    "kernelspec": {
      "name": "python3",
      "display_name": "Python 3"
    },
    "language_info": {
      "name": "python"
    }
  },
  "cells": [
    {
      "cell_type": "markdown",
      "metadata": {
        "id": "sP-9tQblxmXW"
      },
      "source": [
        "**Q1:** Write a Python program to find the list in a list of lists whose sum of elements is the highest. \n",
        "Sample lists: [1,2,3], [4,5,6], [10,11,12], [7,8,9]\n",
        "\n",
        "Expected Output: [10, 11, 12]"
      ]
    },
    {
      "cell_type": "code",
      "metadata": {
        "colab": {
          "base_uri": "https://localhost:8080/"
        },
        "id": "47zx6KD3vhCD",
        "outputId": "ca07b85e-0a75-4744-8646-daed0673cb55"
      },
      "source": [
        "import math\n",
        "\n",
        "input_list = [[1,2,3], [4,5,6], [10,11,12], [7,8,9]]\n",
        "max_sum = -math.inf\n",
        "max_list = []\n",
        "\n",
        "for list in input_list:\n",
        "  sum = 0\n",
        "  for element in list:\n",
        "    sum += element\n",
        "\n",
        "  if (sum > max_sum):\n",
        "    max_sum = sum\n",
        "    max_list = list\n",
        "\n",
        "print(max_list)"
      ],
      "execution_count": null,
      "outputs": [
        {
          "output_type": "stream",
          "text": [
            "[10, 11, 12]\n"
          ],
          "name": "stdout"
        }
      ]
    },
    {
      "cell_type": "markdown",
      "metadata": {
        "id": "4isGso73xtqz"
      },
      "source": [
        ".\n",
        "\n",
        "\n",
        "\n",
        "**Q2:** Write a Python program to check whether a list contains a sublist.\n"
      ]
    },
    {
      "cell_type": "code",
      "metadata": {
        "colab": {
          "base_uri": "https://localhost:8080/"
        },
        "id": "xPFvMYq6wc3U",
        "outputId": "495dc5f6-c151-4bfd-b7de-f9dd630afa44"
      },
      "source": [
        "#input_list = [[1,2,3], [4,5,6], [10,11,12], [7,8,9]]\n",
        "#input_list = [1, 2, 3]\n",
        "input_list = [1, [[2, 3], 4], 3]\n",
        "\n",
        "contains_sublist = False\n",
        "\n",
        "for i in input_list:\n",
        "  if str(type(i)) == \"<class 'list'>\":\n",
        "    contains_sublist = True\n",
        "    break\n",
        "\n",
        "if contains_sublist:\n",
        "  print(True)\n",
        "else:\n",
        "  print(False)"
      ],
      "execution_count": null,
      "outputs": [
        {
          "output_type": "stream",
          "text": [
            "True\n"
          ],
          "name": "stdout"
        }
      ]
    }
  ]
}