{
  "nbformat": 4,
  "nbformat_minor": 0,
  "metadata": {
    "colab": {
      "name": "UE183063_Ex5.ipynb",
      "provenance": [],
      "collapsed_sections": []
    },
    "kernelspec": {
      "name": "python3",
      "display_name": "Python 3"
    },
    "language_info": {
      "name": "python"
    }
  },
  "cells": [
    {
      "cell_type": "markdown",
      "metadata": {
        "id": "Cvxf_b4140qS"
      },
      "source": [
        "# **1.**\n",
        "Create a function to check whether numpy array has Zero values or not.\n"
      ]
    },
    {
      "cell_type": "code",
      "metadata": {
        "colab": {
          "base_uri": "https://localhost:8080/"
        },
        "id": "3gTdMjDW4XNY",
        "outputId": "9583638a-f7f0-49cc-aef3-8b5c78b33125"
      },
      "source": [
        "import numpy as np \n",
        "\n",
        "def check_array_has_all_zeros(arr):\n",
        "  for i in arr:\n",
        "    if i != 0:\n",
        "      return False\n",
        "    \n",
        "  return True\n",
        "\n",
        "arr = np.zeros(5)\n",
        "print(arr)\n",
        "check_array_has_all_zeros(arr)"
      ],
      "execution_count": 5,
      "outputs": [
        {
          "output_type": "stream",
          "text": [
            "[0. 0. 0. 0. 0.]\n"
          ],
          "name": "stdout"
        },
        {
          "output_type": "execute_result",
          "data": {
            "text/plain": [
              "True"
            ]
          },
          "metadata": {
            "tags": []
          },
          "execution_count": 5
        }
      ]
    },
    {
      "cell_type": "markdown",
      "metadata": {
        "id": "v-lmVXrz5FC5"
      },
      "source": [
        "# **2.**\n",
        "Consider an array contains marks of students. Find the median and mean of students who got passing marks.\n"
      ]
    },
    {
      "cell_type": "code",
      "metadata": {
        "colab": {
          "base_uri": "https://localhost:8080/"
        },
        "id": "6YtiraRm5FTw",
        "outputId": "a6f5e92d-327d-4dae-ff8f-e97d1ac6f410"
      },
      "source": [
        "import random\n",
        "\n",
        "arr = []\n",
        "for i in range(0, 100):\n",
        "  arr.append(random.randint(0, 100) + random.randint(0, random.randint(0, 20)) - random.randint(random.randint(0, 8), 10))\n",
        "\n",
        "\n",
        "# remove the marks from array which are less than the passing marks\n",
        "PASSING_MARKS = 33\n",
        "passing_marks_array = []\n",
        "for i in arr:\n",
        "  if (i > PASSING_MARKS):\n",
        "    passing_marks_array.append(i)\n",
        "\n",
        "nparr = np.array(passing_marks_array)\n",
        "nparr.sort()\n",
        "print(\"Mean: \", nparr.mean())\n",
        "print(\"Median: \", nparr[len(nparr) // 2])\n"
      ],
      "execution_count": 52,
      "outputs": [
        {
          "output_type": "stream",
          "text": [
            "Mean:  68.14492753623189\n",
            "Median:  70\n"
          ],
          "name": "stdout"
        }
      ]
    },
    {
      "cell_type": "markdown",
      "metadata": {
        "id": "a_FmE3bA5I7Y"
      },
      "source": [
        "# **3.**\n",
        "Consider an array containing date of birth of students (Use np.datetime64('2018-02-01')). Find the age of all students. If age is 18 label it First, if it is 19, label it Second, if it is 20, label it Third, if it is 21, label it Fourth.\n"
      ]
    },
    {
      "cell_type": "code",
      "metadata": {
        "colab": {
          "base_uri": "https://localhost:8080/"
        },
        "id": "ZFbGIjBB5JMY",
        "outputId": "d885e0db-6bac-4b1e-bf02-fb929bc3f507"
      },
      "source": [
        "import random\n",
        "\n",
        "today = np.datetime64(\"today\")\n",
        "arr = np.array(np.datetime64('2000-02-01'))\n",
        "\n",
        "for i in range(15):\n",
        "  e = np.array(np.datetime64(str(random.randint(1999, 2002)) + \"-\" + str(random.randint(10, 12)) + \"-\" + str(random.randint(10, 30))))\n",
        "  arr = np.append(arr, e)\n",
        "\n",
        "print(today)\n",
        "print(arr)\n",
        "\n",
        "for i in arr:\n",
        "  year_np_diff = (today - i).astype('timedelta64[Y]')\n",
        "  year_diff = int(str(year_np_diff).split(\" \")[0])\n",
        "  \n",
        "  if year_diff == 18:\n",
        "    print(\"First\")\n",
        "  elif year_diff == 19:\n",
        "    print(\"Second\")\n",
        "  elif year_diff == 20:\n",
        "    print(\"Third\")\n",
        "  elif year_diff == 21:\n",
        "    print(\"Forth\")\n",
        "  else:\n",
        "    print(\"Something else\")\n",
        "  \n"
      ],
      "execution_count": 96,
      "outputs": [
        {
          "output_type": "stream",
          "text": [
            "2021-04-29\n",
            "['2000-02-01' '2000-10-19' '1999-11-29' '2002-11-25' '2000-10-19'\n",
            " '2002-12-24' '2002-10-25' '2001-11-19' '2002-10-15' '2000-10-26'\n",
            " '2001-12-12' '1999-11-10' '1999-10-16' '1999-10-23' '1999-11-15'\n",
            " '1999-11-13']\n",
            "Forth\n",
            "Third\n",
            "Forth\n",
            "First\n",
            "Third\n",
            "First\n",
            "First\n",
            "Second\n",
            "First\n",
            "Third\n",
            "Second\n",
            "Forth\n",
            "Forth\n",
            "Forth\n",
            "Forth\n",
            "Forth\n"
          ],
          "name": "stdout"
        }
      ]
    },
    {
      "cell_type": "markdown",
      "metadata": {
        "id": "t-Gr_DD55MOA"
      },
      "source": [
        "# **4.**\n",
        "Create a function to sort 2d Array by a column."
      ]
    },
    {
      "cell_type": "code",
      "metadata": {
        "colab": {
          "base_uri": "https://localhost:8080/"
        },
        "id": "Br4xSfv95MdN",
        "outputId": "6e124924-c334-43b6-9fc9-9b5aedd63c60"
      },
      "source": [
        "nparr = np.array([[1, 2, 3], [7, 9, 5], [0, 3, 8]])\n",
        "\n",
        "nparr = nparr.transpose()\n",
        "\n",
        "nparr = nparr[ : , nparr[0].argsort()]\n",
        "print(nparr.transpose())"
      ],
      "execution_count": 80,
      "outputs": [
        {
          "output_type": "stream",
          "text": [
            "[[0 3 8]\n",
            " [1 2 3]\n",
            " [7 9 5]]\n"
          ],
          "name": "stdout"
        }
      ]
    }
  ]
}