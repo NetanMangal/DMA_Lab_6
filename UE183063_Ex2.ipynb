{
  "nbformat": 4,
  "nbformat_minor": 0,
  "metadata": {
    "colab": {
      "name": "UE183063_Ex2.ipynb",
      "provenance": []
    },
    "kernelspec": {
      "name": "python3",
      "display_name": "Python 3"
    },
    "language_info": {
      "name": "python"
    }
  },
  "cells": [
    {
      "cell_type": "code",
      "metadata": {
        "colab": {
          "base_uri": "https://localhost:8080/",
          "height": 35
        },
        "id": "67DZe-67VRxj",
        "outputId": "01125733-a0bd-4b3f-a7f1-95afcd9e6408"
      },
      "source": [
        "s = \" This is a new word scrambler program. \"\n",
        "s.strip()"
      ],
      "execution_count": 32,
      "outputs": [
        {
          "output_type": "execute_result",
          "data": {
            "application/vnd.google.colaboratory.intrinsic+json": {
              "type": "string"
            },
            "text/plain": [
              "'This is a new word scrambler program.'"
            ]
          },
          "metadata": {
            "tags": []
          },
          "execution_count": 32
        }
      ]
    },
    {
      "cell_type": "code",
      "metadata": {
        "colab": {
          "base_uri": "https://localhost:8080/"
        },
        "id": "-cSGvJ-McdT6",
        "outputId": "f1e841b4-4f5b-409f-ab0e-c72e078c82b6"
      },
      "source": [
        "arr = s.split(\" \")\n",
        "arr"
      ],
      "execution_count": 33,
      "outputs": [
        {
          "output_type": "execute_result",
          "data": {
            "text/plain": [
              "['', 'This', 'is', 'a', 'new', 'word', 'scrambler', 'program.', '']"
            ]
          },
          "metadata": {
            "tags": []
          },
          "execution_count": 33
        }
      ]
    },
    {
      "cell_type": "code",
      "metadata": {
        "id": "J9QC2DmqQUTe"
      },
      "source": [
        "# we can write any scrambling algorithm we want\n",
        "def scramble_word(word):\n",
        "  return word[::-1]"
      ],
      "execution_count": 34,
      "outputs": []
    },
    {
      "cell_type": "code",
      "metadata": {
        "id": "QJIS_Ap3cqKd"
      },
      "source": [
        "for index, word in enumerate(arr):\n",
        "  if (len(word) <= 3):\n",
        "    continue\n",
        "  else:\n",
        "    if (word[-1].isalpha() or word[-1].isnumeric()):\n",
        "      arr[index] = word[0] + scramble_word(word[1:-1]) + word[-1:]\n",
        "    else:\n",
        "      arr[index] = word[0] + scramble_word(word[1:-2]) + word[-2:]"
      ],
      "execution_count": 30,
      "outputs": []
    },
    {
      "cell_type": "code",
      "metadata": {
        "colab": {
          "base_uri": "https://localhost:8080/"
        },
        "id": "zZJszQ0A1Kfl",
        "outputId": "58372cc4-31f1-4703-eab4-94dbeea40c2e"
      },
      "source": [
        "print(\" \".join(arr).strip())"
      ],
      "execution_count": 31,
      "outputs": [
        {
          "output_type": "stream",
          "text": [
            "Tihs is a new wrod selbmarcr pargorm.\n"
          ],
          "name": "stdout"
        }
      ]
    },
    {
      "cell_type": "code",
      "metadata": {
        "id": "gBchhQvq1KeK"
      },
      "source": [
        ""
      ],
      "execution_count": null,
      "outputs": []
    }
  ]
}