{
 "cells": [
  {
   "cell_type": "markdown",
   "metadata": {},
   "source": [
    "# Exercise-6"
   ]
  },
  {
   "cell_type": "markdown",
   "metadata": {},
   "source": [
    "1. Create one hot encoding of an array. <br> For example For an array ([2, 3, 2, 2, 2, 1]). Output should be <br>\n",
    "   <br> array(\n",
    "         [[ 0.,  1.,  0.],\n",
    "         [ 0.,  0.,  1.],\n",
    "         [ 0.,  1.,  0.],\n",
    "         [ 0.,  1.,  0.],\n",
    "         [ 0.,  1.,  0.],\n",
    "         [ 1.,  0.,  0.]])"
   ]
  },
  {
   "cell_type": "code",
   "execution_count": 8,
   "metadata": {},
   "outputs": [
    {
     "name": "stdout",
     "output_type": "stream",
     "text": [
      "[[0. 1. 0.]\n",
      " [0. 0. 1.]\n",
      " [0. 1. 0.]\n",
      " [0. 1. 0.]\n",
      " [0. 1. 0.]\n",
      " [1. 0. 0.]]\n"
     ]
    }
   ],
   "source": [
    "import numpy as np\n",
    "\n",
    "data = np.array([2, 3, 2, 2, 2, 1])\n",
    "data -= 1\n",
    "shape = (data.size, data.max() + 1)\n",
    "\n",
    "one_hot = np.zeros(shape)\n",
    "rows = np.arange(data.size)\n",
    "one_hot[rows, data] = 1\n",
    "print(one_hot)"
   ]
  },
  {
   "cell_type": "markdown",
   "metadata": {},
   "source": [
    "2.Drop all missing values from an array <br><br> Input: np.array([1,2,3,np.nan,5,6,7,np.nan]) <br> Desired Output: array([ 1.,2.,3.,5.,6.,7.])"
   ]
  },
  {
   "cell_type": "code",
   "execution_count": 13,
   "metadata": {},
   "outputs": [
    {
     "name": "stdout",
     "output_type": "stream",
     "text": [
      "[1. 2. 3. 5. 6. 7.]\n"
     ]
    }
   ],
   "source": [
    "import numpy as np\n",
    "\n",
    "arr = np.array([1,2,3,np.nan,5,6,7,np.nan])\n",
    "arr = arr[~np.isnan(arr)]\n",
    "print(arr)"
   ]
  },
  {
   "cell_type": "markdown",
   "metadata": {},
   "source": [
    "3. Find Local maxima from an array. <br><br>Input: a = np.array([1, 3, 7, 1, 2, 6, 0, 1]) <br>Desired Output: array([2, 5])"
   ]
  },
  {
   "cell_type": "code",
   "execution_count": 15,
   "metadata": {},
   "outputs": [
    {
     "name": "stdout",
     "output_type": "stream",
     "text": [
      "(array([2, 5]),)\n"
     ]
    }
   ],
   "source": [
    "import numpy as np\n",
    "from scipy.signal import argrelextrema\n",
    "\n",
    "data = np.array([1, 3, 7, 1, 2, 6, 0, 1])\n",
    "maximums = argrelextrema(data, np.greater)\n",
    "print(maximums)"
   ]
  },
  {
   "cell_type": "markdown",
   "metadata": {},
   "source": [
    "4.From the given 1d array arr, generate a 2d matrix using strides, <br> \n",
    "For example for an array ([ 0,  1,  2,  3,  4,  5,  6,  7,  8,  9, 10, 11, 12, 13, 14]) with a window length of w=4 and strides of s=2, like [[0,1,2,3], [2,3,4,5], [4,5,6,7]..] <br>\n",
    "w and s will be provided by user"
   ]
  },
  {
   "cell_type": "code",
   "execution_count": 2,
   "metadata": {},
   "outputs": [
    {
     "name": "stdout",
     "output_type": "stream",
     "text": [
      "[[ 0  1  2  3]\n",
      " [ 2  3  4  5]\n",
      " [ 4  5  6  7]\n",
      " [ 6  7  8  9]\n",
      " [ 8  9 10 11]\n",
      " [10 11 12 13]\n",
      " [12 13 14  0]\n",
      " [14  0  0  0]]\n"
     ]
    }
   ],
   "source": [
    "import numpy as np\n",
    "\n",
    "def get_conv(arr, w, s):\n",
    "    indices = np.arange(0, len(arr), s)\n",
    "    mat = []\n",
    "    for i in indices:\n",
    "        if i + w < len(arr):\n",
    "            mat.append(arr[i:i+w])\n",
    "        else:\n",
    "            temp = arr[i:]\n",
    "            diff = w - len(temp)\n",
    "            temp = np.concatenate((temp, np.zeros(diff, np.int64)), axis=0)\n",
    "            mat.append(temp)\n",
    "    return np.array(mat)\n",
    "\n",
    "a = np.array([ 0,  1,  2,  3,  4,  5,  6,  7,  8,  9, 10, 11, 12, 13, 14])\n",
    "print(get_conv(a, 4, 2))"
   ]
  },
  {
   "cell_type": "code",
   "execution_count": null,
   "metadata": {},
   "outputs": [],
   "source": []
  }
 ],
 "metadata": {
  "kernelspec": {
   "display_name": "Python 3",
   "language": "python",
   "name": "python3"
  },
  "language_info": {
   "codemirror_mode": {
    "name": "ipython",
    "version": 3
   },
   "file_extension": ".py",
   "mimetype": "text/x-python",
   "name": "python",
   "nbconvert_exporter": "python",
   "pygments_lexer": "ipython3",
   "version": "3.8.5"
  }
 },
 "nbformat": 4,
 "nbformat_minor": 4
}
