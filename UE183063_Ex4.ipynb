{
  "nbformat": 4,
  "nbformat_minor": 0,
  "metadata": {
    "colab": {
      "name": "UE183063_Ex4.ipynb",
      "provenance": [],
      "collapsed_sections": []
    },
    "kernelspec": {
      "name": "python3",
      "display_name": "Python 3"
    },
    "language_info": {
      "name": "python"
    }
  },
  "cells": [
    {
      "cell_type": "markdown",
      "metadata": {
        "id": "Xe0dTAodTBVW"
      },
      "source": [
        "# **Question 1:** \n",
        "You are required to write a program to sort the (name, age, height) tuples by ascending order where name is string, age and height are numbers. The tuples are input by console. The sort criteria is: 1: Sort based on name; 2: Then sort based on age; 3: Then sort by score. The priority is that name > age > score.\n",
        "If the following tuples are given as input to the program:\n",
        "Tom,19,80\n",
        "John,20,90\n",
        "Jony,17,91\n",
        "Jony,17,93\n",
        "Json,21,85\n",
        "Then, the output of the program should be:\n",
        "[('John', '20', '90'), ('Jony', '17', '91'), ('Jony', '17', '93'), ('Json', '21', '85'), ('Tom', '19', '80')]"
      ]
    },
    {
      "cell_type": "code",
      "metadata": {
        "id": "C5NZqYgTy7mw",
        "colab": {
          "base_uri": "https://localhost:8080/"
        },
        "outputId": "00365826-10a0-4749-ebc7-57afa4c5a80a"
      },
      "source": [
        "array = []\n",
        "for i in input(\"Input the string: \").split(\" \"):\n",
        "  (name, age, height) = tuple(i.split(\",\"))\n",
        "  array.append((name, age, height))\n",
        "\n",
        "print(array)\n",
        "array.sort()\n",
        "print(array)"
      ],
      "execution_count": 13,
      "outputs": [
        {
          "output_type": "stream",
          "text": [
            "Input the string: Tom,19,80 John,20,90 Jony,17,91 Jony,17,93 Json,21,85\n",
            "[('Tom', '19', '80'), ('John', '20', '90'), ('Jony', '17', '91'), ('Jony', '17', '93'), ('Json', '21', '85')]\n",
            "[('John', '20', '90'), ('Jony', '17', '91'), ('Jony', '17', '93'), ('Json', '21', '85'), ('Tom', '19', '80')]\n"
          ],
          "name": "stdout"
        }
      ]
    },
    {
      "cell_type": "markdown",
      "metadata": {
        "id": "ABuQX6N2TETd"
      },
      "source": [
        "# **Question 2:**\n",
        "Calculate Word Frequencies. Take a set of sentences in a string as an input. Count each unique occurrence of a word and calculate frequency of occurrence and store in a dictionary. Produce a frequency table.\n",
        "Hint1: Iterate through the string, placing the words into a dict. The first time a word is seen, the frequency is 1. Each time the word is seen again, increment the frequency. \n",
        "Hint2: Similar program given in Tuple Dictionary Notebook."
      ]
    },
    {
      "cell_type": "code",
      "metadata": {
        "colab": {
          "base_uri": "https://localhost:8080/"
        },
        "id": "bcJBVw-yTGlo",
        "outputId": "15c1b5a9-261a-4257-962b-a223ff671c92"
      },
      "source": [
        "string = input(\"Enter the string: \")\n",
        "count = {}\n",
        "for i in string:\n",
        "  if i not in count:\n",
        "    count[i] = 1\n",
        "  else:\n",
        "    count[i] += 1\n",
        "\n",
        "print(count)"
      ],
      "execution_count": 17,
      "outputs": [
        {
          "output_type": "stream",
          "text": [
            "Enter the string: abbcccddddeeeeefgghhh12233355555\n",
            "{'a': 1, 'b': 2, 'c': 3, 'd': 4, 'e': 5, 'f': 1, 'g': 2, 'h': 3, '1': 1, '2': 2, '3': 3, '5': 5}\n"
          ],
          "name": "stdout"
        }
      ]
    },
    {
      "cell_type": "markdown",
      "metadata": {
        "id": "chM5Sci8THEP"
      },
      "source": [
        "# **Question 3:**\n",
        " Result Calculation. Create a dictionary and a list like following.\n",
        "Student = { 'UE183001': 'Avish', 'UE183002': 'Bhavya', 'UE183003': 'Tanya' } Add atleast 10 students\n",
        "Marks = [('UE183001', 'CS', 94 ), ('UE183002', 'CS', 64 ), ('UE183001', 'RV', 94), ('UE183002', 'CS', 74), \n",
        "  ('UE183003', 'CS', 64)] Add some more values\n",
        "Find total marks of each students and display full name of student with total marks secured. This is the basic relational database join algorithm between two tables."
      ]
    },
    {
      "cell_type": "code",
      "metadata": {
        "colab": {
          "base_uri": "https://localhost:8080/"
        },
        "id": "cUMyuv65TMSR",
        "outputId": "0f6a65e5-0a38-4711-c0b7-dd1efc9fe8b9"
      },
      "source": [
        "students = { 'UE183001': 'Avish', 'UE183002': 'Bhavya', 'UE183003': 'Tanya', 'UE183004': 'Tanya', 'UE183005': 'Tanya', 'UE183006': 'Tanya', 'UE183007': 'Tanya', 'UE183008': 'Tanya', 'UE183009': 'Tanya', 'UE183010': 'Tanya' }\n",
        "marks = [('UE183001', 'CS', 42 ), ('UE183002', 'CS', 64 ), ('UE183001', 'RV', 94), ('UE183002', 'RV', 74), ('UE183003', 'CS', 42 ), ('UE183004', 'CS', 64 ), ('UE183003', 'RV', 94), ('UE183004', 'RV', 74), ('UE183005', 'CS', 94 ), ('UE183006', 'CS', 64 ), ('UE183005', 'RV', 65), ('UE183006', 'RV', 56), ('UE183007', 'CS', 94 ), ('UE183008', 'CS', 64 ), ('UE183007', 'RV', 87), ('UE183008', 'RV', 74), ('UE183009', 'CS', 54 ), ('UE183010', 'CS', 64 ), ('UE183009', 'RV', 65), ('UE183010', 'RV', 23)]\n",
        "\n",
        "def get_tuples(rollno):\n",
        "  arr = []\n",
        "  for i in marks:\n",
        "    if rollno in i:\n",
        "      arr.append(i)\n",
        "  \n",
        "  return arr\n",
        "\n",
        "def sum_of_marks(arr):\n",
        "  sum = 0\n",
        "  for i in arr:\n",
        "    sum += i[2]\n",
        "\n",
        "  return sum\n",
        "\n",
        "print(\"{:15} {:15} {:15}\".format(\"Roll No\", \"Name\", \"Marks\"))\n",
        "for rollno in students:\n",
        "  print(\"{:15} {:15} {:15}\".format(rollno, students[rollno], sum_of_marks(get_tuples(rollno))))\n"
      ],
      "execution_count": 37,
      "outputs": [
        {
          "output_type": "stream",
          "text": [
            "Roll No         Name            Marks          \n",
            "UE183001        Avish                       136\n",
            "UE183002        Bhavya                      138\n",
            "UE183003        Tanya                       136\n",
            "UE183004        Tanya                       138\n",
            "UE183005        Tanya                       159\n",
            "UE183006        Tanya                       120\n",
            "UE183007        Tanya                       181\n",
            "UE183008        Tanya                       138\n",
            "UE183009        Tanya                       119\n",
            "UE183010        Tanya                        87\n"
          ],
          "name": "stdout"
        }
      ]
    },
    {
      "cell_type": "markdown",
      "metadata": {
        "id": "pVTT5-p2TMtX"
      },
      "source": [
        "# **Question 4:**\n",
        " A date of the form 8-MAR-85 includes the name of the month, which must be translated to a number. Create a dict suitable for decoding month names to numbers. Create a function which uses string operations to split the date into 3 items using the \"-\" character. Translate the month, correct the year to include all of the digits.\n",
        "The function will accept a date in the \"dd-MMM-yy\" format and respond with a tuple of ( y , m , d )"
      ]
    },
    {
      "cell_type": "code",
      "metadata": {
        "colab": {
          "base_uri": "https://localhost:8080/"
        },
        "id": "ALXyaWwvTPfo",
        "outputId": "1d63e317-3d80-4b40-bf8a-1628b90ce2fd"
      },
      "source": [
        "month_to_num = month = { \"JAN\": 1, \"FEB\": 2, \"MAR\": 3, \"APR\": 4, \"MAY\": 5, \"JUN\": 6, \"JUL\": 7, \"AUG\": 8, \"SEP\": 9, \"OCT\": 10, \"NOV\": 11, \"DEC\": 12 }\n",
        "\n",
        "(d, m, y) = tuple(input(\"Enter the date: \").split(\"-\"))\n",
        "\n",
        "m = month_to_num[m]\n",
        "y = int(y)\n",
        "d = int(d)\n",
        "if (y < 21):\n",
        "  y = 2000 + y\n",
        "else:\n",
        "  y = 1900 + y\n",
        "\n",
        "output = (y, m, d)\n",
        "print(output)"
      ],
      "execution_count": 42,
      "outputs": [
        {
          "output_type": "stream",
          "text": [
            "Enter the date: 17-APR-19\n",
            "(2019, 4, 17)\n"
          ],
          "name": "stdout"
        }
      ]
    },
    {
      "cell_type": "markdown",
      "metadata": {
        "id": "jJ1srIjdTPzn"
      },
      "source": [
        "# **Question 5:**\n",
        " Dice Odds. There are 36 possible combinations of two dice. A simple pair of loops over range(6)+1 will enumerate all combinations. The sum of the two dice is more interesting than the actual combination. Create a dict of all combinations, using the sum of the two dice as the key. Each value in the dict should be a list of tuples; each tuple has the value of two dice. The general outline is something like the following:\n",
        "d= {}\n",
        "Loop with d1 from 1 to 6\n",
        "    Loop with d2 from 1 to 6\n",
        "        newTuple ← ( d1, d2 ) # create the tuple\n",
        "        oldList ← dictionary entry for sum d1+d2\n",
        "        newList ← oldList + newTuple\n",
        "        replace entry in dictionary with newList\n",
        "Loop over all values in the dictionary\n",
        "print the key and the length of the list"
      ]
    },
    {
      "cell_type": "code",
      "metadata": {
        "colab": {
          "base_uri": "https://localhost:8080/"
        },
        "id": "6MuU-2ykTSMn",
        "outputId": "364576cd-5e66-4f84-fb7b-9dc92535c2c1"
      },
      "source": [
        "sums = {}\n",
        "\n",
        "for i in range(1, 7):\n",
        "  for j in range(1, 7):\n",
        "    if (i+j) not in sums:\n",
        "      sums[i+j] = [(i, j)]\n",
        "    else:\n",
        "      sums[i+j].append((i, j))\n",
        "\n",
        "print(sums)"
      ],
      "execution_count": 46,
      "outputs": [
        {
          "output_type": "stream",
          "text": [
            "{2: [(1, 1)], 3: [(1, 2), (2, 1)], 4: [(1, 3), (2, 2), (3, 1)], 5: [(1, 4), (2, 3), (3, 2), (4, 1)], 6: [(1, 5), (2, 4), (3, 3), (4, 2), (5, 1)], 7: [(1, 6), (2, 5), (3, 4), (4, 3), (5, 2), (6, 1)], 8: [(2, 6), (3, 5), (4, 4), (5, 3), (6, 2)], 9: [(3, 6), (4, 5), (5, 4), (6, 3)], 10: [(4, 6), (5, 5), (6, 4)], 11: [(5, 6), (6, 5)], 12: [(6, 6)]}\n"
          ],
          "name": "stdout"
        }
      ]
    }
  ]
}